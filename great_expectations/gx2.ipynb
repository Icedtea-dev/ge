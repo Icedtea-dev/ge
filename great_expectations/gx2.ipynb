{
 "cells": [
  {
   "cell_type": "code",
   "execution_count": 1,
   "metadata": {},
   "outputs": [],
   "source": [
    "import great_expectations as gx\n",
    "from great_expectations.core.batch import BatchRequest, RuntimeBatchRequest\n",
    "from great_expectations.core.yaml_handler import YAMLHandler\n",
    "# from build_expectations import build_expectations_for_data_assets,get_src_dtypes_from_postgres\n",
    "\n",
    "yaml = YAMLHandler()\n",
    "context = gx.get_context()"
   ]
  },
  {
   "cell_type": "code",
   "execution_count": 2,
   "metadata": {},
   "outputs": [
    {
     "name": "stdout",
     "output_type": "stream",
     "text": [
      "85\n"
     ]
    }
   ],
   "source": [
    "datasource_name = \"BigQuery_datasource\"\n",
    "available_data_asset_names = context.datasources[datasource_name].get_available_data_asset_names(\n",
    "    data_connector_names=\"default_inferred_data_connector_name\")[\"default_inferred_data_connector_name\"]\n",
    "print(len(available_data_asset_names))"
   ]
  },
  {
   "cell_type": "code",
   "execution_count": 3,
   "metadata": {},
   "outputs": [
    {
     "data": {
      "text/plain": [
       "['eprod_public.tbl_address_breakdown',\n",
       " 'eprod_public.tbl_audit_trail',\n",
       " 'eprod_public.tbl_bank_code',\n",
       " 'eprod_public.tbl_banned_companies_log',\n",
       " 'eprod_public.tbl_beneficiary',\n",
       " 'eprod_public.tbl_business_assessment_data',\n",
       " 'eprod_public.tbl_business_bank_account',\n",
       " 'eprod_public.tbl_business_credit_risk',\n",
       " 'eprod_public.tbl_business_credit_score',\n",
       " 'eprod_public.tbl_business_director',\n",
       " 'eprod_public.tbl_bvn_data',\n",
       " 'eprod_public.tbl_cart_items',\n",
       " 'eprod_public.tbl_carts',\n",
       " 'eprod_public.tbl_city',\n",
       " 'eprod_public.tbl_claim',\n",
       " 'eprod_public.tbl_claim_message',\n",
       " 'eprod_public.tbl_company',\n",
       " 'eprod_public.tbl_company_category',\n",
       " 'eprod_public.tbl_conversation',\n",
       " 'eprod_public.tbl_conversation_message',\n",
       " 'eprod_public.tbl_country',\n",
       " 'eprod_public.tbl_country_invoice_charge',\n",
       " 'eprod_public.tbl_credit_bureau',\n",
       " 'eprod_public.tbl_delivery',\n",
       " 'eprod_public.tbl_direct_debit',\n",
       " 'eprod_public.tbl_direct_debit_log',\n",
       " 'eprod_public.tbl_draft',\n",
       " 'eprod_public.tbl_email_notification_users',\n",
       " 'eprod_public.tbl_email_verify_token',\n",
       " 'eprod_public.tbl_entity_branch',\n",
       " 'eprod_public.tbl_entity_branch_user',\n",
       " 'eprod_public.tbl_faq',\n",
       " 'eprod_public.tbl_favourite_product',\n",
       " 'eprod_public.tbl_forager_team',\n",
       " 'eprod_public.tbl_forager_team_member',\n",
       " 'eprod_public.tbl_goods_received_note',\n",
       " 'eprod_public.tbl_goods_received_note_item',\n",
       " 'eprod_public.tbl_guest_order',\n",
       " 'eprod_public.tbl_guest_order_item',\n",
       " 'eprod_public.tbl_invoice',\n",
       " 'eprod_public.tbl_invoice_item',\n",
       " 'eprod_public.tbl_invoice_miscellaneous',\n",
       " 'eprod_public.tbl_invoice_shipping_addresses',\n",
       " 'eprod_public.tbl_lga',\n",
       " 'eprod_public.tbl_location_filter',\n",
       " 'eprod_public.tbl_miscellaneous',\n",
       " 'eprod_public.tbl_otp',\n",
       " 'eprod_public.tbl_password_reset_token',\n",
       " 'eprod_public.tbl_payment_data',\n",
       " 'eprod_public.tbl_payment_request',\n",
       " 'eprod_public.tbl_payment_request_category',\n",
       " 'eprod_public.tbl_pickup_source',\n",
       " 'eprod_public.tbl_product',\n",
       " 'eprod_public.tbl_product_category',\n",
       " 'eprod_public.tbl_product_location',\n",
       " 'eprod_public.tbl_product_price_trends',\n",
       " 'eprod_public.tbl_product_price_trends_deduplicated',\n",
       " 'eprod_public.tbl_purchase_order',\n",
       " 'eprod_public.tbl_purchase_order_item',\n",
       " 'eprod_public.tbl_request_kyc_update',\n",
       " 'eprod_public.tbl_requested_invoice_discount',\n",
       " 'eprod_public.tbl_requested_product',\n",
       " 'eprod_public.tbl_role',\n",
       " 'eprod_public.tbl_role_system_resource_privilege',\n",
       " 'eprod_public.tbl_scheduled_payment',\n",
       " 'eprod_public.tbl_scheduled_payment_log',\n",
       " 'eprod_public.tbl_shipping_addresses',\n",
       " 'eprod_public.tbl_slack_notifications',\n",
       " 'eprod_public.tbl_state',\n",
       " 'eprod_public.tbl_supplier',\n",
       " 'eprod_public.tbl_supplier_category',\n",
       " 'eprod_public.tbl_system_department',\n",
       " 'eprod_public.tbl_system_resource_privilege_setup',\n",
       " 'eprod_public.tbl_system_user_account_managed',\n",
       " 'eprod_public.tbl_system_user_city',\n",
       " 'eprod_public.tbl_system_user_department',\n",
       " 'eprod_public.tbl_transaction',\n",
       " 'eprod_public.tbl_transaction_flow',\n",
       " 'eprod_public.tbl_transfer_favorite',\n",
       " 'eprod_public.tbl_transfer_gateway',\n",
       " 'eprod_public.tbl_transfer_request',\n",
       " 'eprod_public.tbl_uom_setup',\n",
       " 'eprod_public.tbl_user',\n",
       " 'eprod_public.tbl_wallet',\n",
       " 'eprod_public.tbl_wards']"
      ]
     },
     "execution_count": 3,
     "metadata": {},
     "output_type": "execute_result"
    }
   ],
   "source": [
    "available_data_asset_names"
   ]
  },
  {
   "cell_type": "code",
   "execution_count": 16,
   "metadata": {},
   "outputs": [],
   "source": [
    "# for dataset in available_data_asset_names:\n",
    "#     tbl_name = dataset.split(\".\")[-1]\n",
    "#     schema_name = dataset.split(\".\")[0]\n",
    "#     print(f\"table name: {tbl_name}\")\n",
    "#     if tbl_name == \"tbl_product\": \n",
    "#         if tbl_name == \"tbl_product\": \n",
    "#             runtime_parameters={\"query\": f\"select *, trim(lower(name)) parsed_name from {dataset} where deleted_at is null\"}\n",
    "#             batch_request = RuntimeBatchRequest(\n",
    "#                 datasource_name=datasource_name,\n",
    "#                 data_connector_name=\"default_runtime_data_connector_name\",\n",
    "#                 data_asset_name=dataset,  # this can be anything that identifies this data\n",
    "#                 runtime_parameters=runtime_parameters,\n",
    "#                 batch_identifiers={\"default_identifier_name\": \"default_identifier\"},\n",
    "#             )\n",
    "\n",
    "#         else:\n",
    "#             batch_request = BatchRequest(\n",
    "#                 datasource_name=datasource_name,\n",
    "#                 data_connector_name=\"default_inferred_data_connector_name\",\n",
    "#                 data_asset_name=dataset,  # this is the name of the table you want to retrieve\n",
    "#             )\n",
    "#         context.add_or_update_expectation_suite(expectation_suite_name=\"tbl_product_expectations_2\")\n",
    "#         validator = context.get_validator(\n",
    "#             batch_request=batch_request, expectation_suite_name=\"tbl_product_expectations_2\"\n",
    "#             )\n",
    "\n",
    "#         data_types = get_dtypes(\"public\",\"tbl_product\",\"DEV POSTGRES\")\n",
    "\n",
    "#         build_expectations_for_data_assets(dataset, validator,data_types)\n",
    "\n",
    "#         # Validate data\n",
    "#         checkpoint = gx.checkpoint.SimpleCheckpoint(\n",
    "#             name=\"my_quickstart_checkpoint\",\n",
    "#             data_context=context,\n",
    "#             validator=validator,\n",
    "#         )\n",
    "\n",
    "#         checkpoint_result = checkpoint.run()\n",
    "\n",
    "#         # View results\n",
    "#         validation_result_identifier = checkpoint_result.list_validation_result_identifiers()[0]\n",
    "#         context.open_data_docs(resource_identifier=validation_result_identifier)\n",
    "\n",
    "#         print(validator.head())\n",
    "        \n",
    "#         break\n",
    "\n",
    "    "
   ]
  },
  {
   "cell_type": "code",
   "execution_count": 27,
   "metadata": {},
   "outputs": [],
   "source": [
    "# for dataset in available_data_asset_names:\n",
    "#     # print(dataset)\n",
    "#     build_expectations_for_data_assets(dataset)"
   ]
  },
  {
   "cell_type": "code",
   "execution_count": 8,
   "metadata": {},
   "outputs": [],
   "source": [
    "# # Validate data\n",
    "# checkpoint = gx.checkpoint.SimpleCheckpoint(\n",
    "#     name=\"my_quickstart_checkpoint\",\n",
    "#     data_context=context,\n",
    "#     validator=validator,\n",
    "# )\n",
    "\n",
    "# checkpoint_result = checkpoint.run()\n",
    "\n",
    "# # View results\n",
    "# validation_result_identifier = checkpoint_result.list_validation_result_identifiers()[0]\n",
    "# context.open_data_docs(resource_identifier=validation_result_identifier)"
   ]
  },
  {
   "cell_type": "code",
   "execution_count": 40,
   "metadata": {},
   "outputs": [],
   "source": [
    "# batch_list = context.get_batch_list(batch_request=batch_request)\n",
    "# context.get_available_data_asset_names()"
   ]
  },
  {
   "cell_type": "code",
   "execution_count": 7,
   "metadata": {},
   "outputs": [],
   "source": [
    "# context.add_or_update_expectation_suite(expectation_suite_name=\"tbl_product_expectations_2\")\n",
    "# validator = context.get_validator(\n",
    "#     batch_request=batch_request, expectation_suite_name=\"tbl_product_expectations_2\"\n",
    "# )\n",
    "# print(validator.head())"
   ]
  },
  {
   "cell_type": "code",
   "execution_count": 50,
   "metadata": {},
   "outputs": [],
   "source": [
    "# checkpoint = gx.checkpoint.SimpleCheckpoint(\n",
    "#     name=\"my_checkpoint\",\n",
    "#     data_context=context,\n",
    "#     validations=[\n",
    "#         {\n",
    "#             \"batch_request\": batch_request,\n",
    "#             \"expectation_suite_name\": \"tbl_product_expectations_2\",\n",
    "#         },\n",
    "#     ],\n",
    "# )"
   ]
  },
  {
   "cell_type": "code",
   "execution_count": 6,
   "metadata": {},
   "outputs": [],
   "source": [
    "# checkpoint_result = checkpoint.run()"
   ]
  },
  {
   "cell_type": "code",
   "execution_count": 53,
   "metadata": {},
   "outputs": [
    {
     "data": {
      "text/plain": [
       "{'local_site': 'file:///Users/olusegun/Vendease/ge/great_expectations/uncommitted/data_docs/local_site/index.html'}"
      ]
     },
     "execution_count": 53,
     "metadata": {},
     "output_type": "execute_result"
    }
   ],
   "source": [
    "# context.build_data_docs()"
   ]
  },
  {
   "cell_type": "code",
   "execution_count": 55,
   "metadata": {},
   "outputs": [],
   "source": [
    "# context.add_checkpoint(checkpoint=checkpoint)"
   ]
  },
  {
   "cell_type": "code",
   "execution_count": 14,
   "metadata": {},
   "outputs": [],
   "source": [
    "# batch_request = BatchRequest(\n",
    "#     datasource_name=\"postgres_datasource\",\n",
    "#     data_connector_name=\"InferredAssetSqlDataConnector\"\n",
    "# )\n",
    "\n",
    "# print(validator.batches)\n"
   ]
  },
  {
   "cell_type": "code",
   "execution_count": 14,
   "metadata": {},
   "outputs": [],
   "source": [
    "# a = [('id', 'bigint'), ('name', 'character varying'), ('code', 'character varying'), ('image_url', 'character varying'), ('description', 'character varying'), ('category_id', 'integer'), ('sub_category', 'character varying'), ('created_by', 'uuid'), ('updated_by', 'uuid'), ('deleted_at', 'timestamp with time zone'), ('created_at', 'timestamp with time zone'), ('updated_at', 'timestamp with time zone'), ('performance_status', 'USER-DEFINED')]\n"
   ]
  },
  {
   "cell_type": "code",
   "execution_count": 2,
   "metadata": {},
   "outputs": [],
   "source": [
    "# datasrc = context.get_datasource(\"BigQuery_datasource_test\")\n",
    "# table_asset = datasrc.add_query_asset(name=\"test\", query=\"select * from deep-contact-361614.eprod_public limit 10\")\n",
    "# my_asset = datasrc.get_asset(\"test\")\n",
    "# my_batch_request = my_asset.build_batch_request()\n",
    "# my_batch_request"
   ]
  },
  {
   "cell_type": "code",
   "execution_count": 13,
   "metadata": {},
   "outputs": [],
   "source": [
    "# batches = datasrc.get_batch_list_from_batch_request(my_batch_request)\n",
    "# for batch in batches:\n",
    "#     print(batch.batch_spec)\n",
    "\n"
   ]
  },
  {
   "cell_type": "code",
   "execution_count": 12,
   "metadata": {},
   "outputs": [],
   "source": [
    "# from eprocurement_tables import eproc_tables\n",
    "# from collections import defaultdict\n",
    "# from build_expectations import get_src_dtypes_from_postgres"
   ]
  },
  {
   "cell_type": "code",
   "execution_count": 6,
   "metadata": {},
   "outputs": [],
   "source": [
    "# sorted(tuple([a.get(\"table_name\") for a in a]))"
   ]
  },
  {
   "cell_type": "code",
   "execution_count": 11,
   "metadata": {},
   "outputs": [],
   "source": [
    "# import time\n",
    "# start_time = time.time()\n",
    "\n",
    "# print(5)\n",
    "\n",
    "# end_time = time.time()\n",
    "\n",
    "# runtime = end_time - start_time\n",
    "# print(runtime)"
   ]
  },
  {
   "cell_type": "code",
   "execution_count": 10,
   "metadata": {},
   "outputs": [],
   "source": [
    "\n",
    "# import great_expectations as gx\n",
    "# from great_expectations.core.batch import BatchRequest, RuntimeBatchRequest\n",
    "# from build_expectations import build_expectations_for_data_assets,get_src_dtypes_from_postgres,load_json,dump_json\n",
    "# from eprocurement_tables import eproc_tables\n",
    "\n",
    "# context = gx.get_context()\n",
    "\n",
    "# dataset_id = 'deep-contact-361614'\n",
    "\n",
    "# datasource_name = \"BigQuery_datasource\"\n",
    "\n",
    "# available_data_asset_names = context.datasources[datasource_name].get_available_data_asset_names(\n",
    "#     data_connector_names=\"default_inferred_data_connector_name\")[\"default_inferred_data_connector_name\"]\n",
    "\n",
    "# print((available_data_asset_names))\n",
    "\n",
    "# end_time = time.time()\n",
    "# runtime = end_time - start_time\n",
    "# print(f\"runtime: {runtime}\")\n",
    "\n"
   ]
  },
  {
   "cell_type": "code",
   "execution_count": 9,
   "metadata": {},
   "outputs": [],
   "source": [
    "# available_data_asset_names"
   ]
  },
  {
   "cell_type": "code",
   "execution_count": 17,
   "metadata": {},
   "outputs": [
    {
     "name": "stdout",
     "output_type": "stream",
     "text": [
      "YEs\n"
     ]
    }
   ],
   "source": [
    "text = \"The quick brown fox jumps over the lazy dog\"\n",
    "substitutions = {\n",
    "\"quick\":\"fast\",\n",
    "\"brown\":\"red\",\n",
    "\"lazy\":\"sleepy\"\n",
    "}\n",
    "\n",
    "if \"quick\" in substitutions:\n",
    "    print(\"YEs\")"
   ]
  }
 ],
 "metadata": {
  "kernelspec": {
   "display_name": "ge",
   "language": "python",
   "name": "python3"
  },
  "language_info": {
   "codemirror_mode": {
    "name": "ipython",
    "version": 3
   },
   "file_extension": ".py",
   "mimetype": "text/x-python",
   "name": "python",
   "nbconvert_exporter": "python",
   "pygments_lexer": "ipython3",
   "version": "3.9.6"
  },
  "orig_nbformat": 4
 },
 "nbformat": 4,
 "nbformat_minor": 2
}
