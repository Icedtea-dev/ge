{
 "cells": [
  {
   "cell_type": "code",
   "execution_count": 82,
   "metadata": {},
   "outputs": [],
   "source": [
    "import great_expectations as gx\n",
    "from great_expectations.core.batch import BatchRequest, RuntimeBatchRequest\n",
    "from great_expectations.core.yaml_handler import YAMLHandler\n",
    "\n",
    "yaml = YAMLHandler()\n",
    "context = gx.get_context()"
   ]
  },
  {
   "cell_type": "code",
   "execution_count": 93,
   "metadata": {},
   "outputs": [
    {
     "name": "stdout",
     "output_type": "stream",
     "text": [
      "10\n"
     ]
    }
   ],
   "source": [
    "datasource_name = \"postgres_datasource\"\n",
    "\n",
    "available_data_asset_names = context.datasources[datasource_name].get_available_data_asset_names(\n",
    "    data_connector_names=\"default_inferred_data_connector_name\")[\"default_inferred_data_connector_name\"]\n",
    "print(len(available_data_asset_names))"
   ]
  },
  {
   "cell_type": "code",
   "execution_count": 94,
   "metadata": {},
   "outputs": [],
   "source": [
    "for dataset in available_data_asset_names:\n",
    "    batch_request = BatchRequest(\n",
    "        datasource_name=datasource_name,\n",
    "        data_connector_name=\"default_inferred_data_connector_name\",\n",
    "        data_asset_name=dataset,  # this is the name of the table you want to retrieve\n",
    "    )\n"
   ]
  },
  {
   "cell_type": "code",
   "execution_count": 79,
   "metadata": {},
   "outputs": [
    {
     "name": "stdout",
     "output_type": "stream",
     "text": [
      "10\n"
     ]
    }
   ],
   "source": []
  },
  {
   "cell_type": "code",
   "execution_count": 80,
   "metadata": {},
   "outputs": [
    {
     "data": {
      "text/plain": [
       "['public.tbl_product_price_trends_test',\n",
       " 'public.tbl_product_price_trends',\n",
       " 'public.ge_expectations_store',\n",
       " 'public.tbl_register_word_columns',\n",
       " 'public.tbl_product',\n",
       " 'public.awsdms_ddl_audit',\n",
       " 'public.cars',\n",
       " 'public.food',\n",
       " 'public.temp_price',\n",
       " 'public.temp_price_t1']"
      ]
     },
     "execution_count": 80,
     "metadata": {},
     "output_type": "execute_result"
    }
   ],
   "source": [
    "available_data_asset_names"
   ]
  },
  {
   "cell_type": "code",
   "execution_count": 40,
   "metadata": {},
   "outputs": [],
   "source": [
    "# batch_list = context.get_batch_list(batch_request=batch_request)\n",
    "# context.get_available_data_asset_names()"
   ]
  },
  {
   "cell_type": "code",
   "execution_count": 95,
   "metadata": {},
   "outputs": [
    {
     "data": {
      "application/vnd.jupyter.widget-view+json": {
       "model_id": "ac9698968e0d44dea5acd2c5b8adb6af",
       "version_major": 2,
       "version_minor": 0
      },
      "text/plain": [
       "Calculating Metrics:   0%|          | 0/1 [00:00<?, ?it/s]"
      ]
     },
     "metadata": {},
     "output_type": "display_data"
    },
    {
     "name": "stdout",
     "output_type": "stream",
     "text": [
      "Empty DataFrame\n",
      "Columns: [id, name, category, sub_category, uom, status, vendease_price, supplier_price, product_location_id, product_category_id, created_at, updated_at, deleted_at, var_concat]\n",
      "Index: []\n"
     ]
    }
   ],
   "source": [
    "context.add_or_update_expectation_suite(expectation_suite_name=\"tbl_product_expectations_2\")\n",
    "validator = context.get_validator(\n",
    "    batch_request=batch_request, expectation_suite_name=\"tbl_product_expectations_2\"\n",
    ")\n",
    "print(validator.head())"
   ]
  },
  {
   "cell_type": "code",
   "execution_count": 50,
   "metadata": {},
   "outputs": [],
   "source": [
    "# checkpoint = gx.checkpoint.SimpleCheckpoint(\n",
    "#     name=\"my_checkpoint\",\n",
    "#     data_context=context,\n",
    "#     validations=[\n",
    "#         {\n",
    "#             \"batch_request\": batch_request,\n",
    "#             \"expectation_suite_name\": \"tbl_product_expectations\",\n",
    "#         },\n",
    "#     ],\n",
    "# )"
   ]
  },
  {
   "cell_type": "code",
   "execution_count": 52,
   "metadata": {},
   "outputs": [
    {
     "data": {
      "application/vnd.jupyter.widget-view+json": {
       "model_id": "409d0b502b4d4a3b8e19ba15d58d90f9",
       "version_major": 2,
       "version_minor": 0
      },
      "text/plain": [
       "Calculating Metrics:   0%|          | 0/10 [00:00<?, ?it/s]"
      ]
     },
     "metadata": {},
     "output_type": "display_data"
    }
   ],
   "source": [
    "checkpoint_result = checkpoint.run()"
   ]
  },
  {
   "cell_type": "code",
   "execution_count": 53,
   "metadata": {},
   "outputs": [
    {
     "data": {
      "text/plain": [
       "{'local_site': 'file:///Users/olusegun/Vendease/ge/great_expectations/uncommitted/data_docs/local_site/index.html'}"
      ]
     },
     "execution_count": 53,
     "metadata": {},
     "output_type": "execute_result"
    }
   ],
   "source": [
    "# context.build_data_docs()"
   ]
  },
  {
   "cell_type": "code",
   "execution_count": 55,
   "metadata": {},
   "outputs": [],
   "source": [
    "# context.add_checkpoint(checkpoint=checkpoint)"
   ]
  },
  {
   "cell_type": "code",
   "execution_count": 14,
   "metadata": {},
   "outputs": [],
   "source": [
    "# batch_request = BatchRequest(\n",
    "#     datasource_name=\"postgres_datasource\",\n",
    "#     data_connector_name=\"InferredAssetSqlDataConnector\"\n",
    "# )\n",
    "\n",
    "# print(validator.batches)\n"
   ]
  }
 ],
 "metadata": {
  "kernelspec": {
   "display_name": "ge",
   "language": "python",
   "name": "python3"
  },
  "language_info": {
   "codemirror_mode": {
    "name": "ipython",
    "version": 3
   },
   "file_extension": ".py",
   "mimetype": "text/x-python",
   "name": "python",
   "nbconvert_exporter": "python",
   "pygments_lexer": "ipython3",
   "version": "3.9.6"
  },
  "orig_nbformat": 4
 },
 "nbformat": 4,
 "nbformat_minor": 2
}
